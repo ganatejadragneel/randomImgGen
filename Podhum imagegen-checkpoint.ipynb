{
 "cells": [
  {
   "cell_type": "code",
   "execution_count": 13,
   "id": "6ff64894",
   "metadata": {},
   "outputs": [],
   "source": [
    "from PIL import Image\n",
    "import random"
   ]
  },
  {
   "cell_type": "code",
   "execution_count": 14,
   "id": "b931829a",
   "metadata": {},
   "outputs": [],
   "source": [
    "bgList = [r\"D:/Lighthouse/NFT_Images/BG/BG001.png\", r\"D:/Lighthouse/NFT_Images/BG/BG002.png\", r\"D:/Lighthouse/NFT_Images/BG/BG003.png\", r\"D:/Lighthouse/NFT_Images/BG/BG004.png\", r\"D:/Lighthouse/NFT_Images/BG/BG005.png\", r\"D:/Lighthouse/NFT_Images/BG/BG006.png\", r\"D:/Lighthouse/NFT_Images/BG/BG007.png\", r\"D:/Lighthouse/NFT_Images/BG/BG008.png\", r\"D:/Lighthouse/NFT_Images/BG/BG009.png\", r\"D:/Lighthouse/NFT_Images/BG/BG010.png\", r\"D:/Lighthouse/NFT_Images/BG/BG011.png\", r\"D:/Lighthouse/NFT_Images/BG/BG012.png\", r\"D:/Lighthouse/NFT_Images/BG/BG013.png\",r\"D:/Lighthouse/NFT_Images/BG/BG014.png\",r\"D:/Lighthouse/NFT_Images/BG/BG015.png\"]\n",
    "\n",
    "headGearList = [r\"D:/Lighthouse/NFT_Images/Headgears/Headgear001.png\", r\"D:/Lighthouse/NFT_Images/Headgears/Headgear002.png\"]\n",
    "\n",
    "topList = [r\"D:/Lighthouse/NFT_Images/Tops/Top001.png\", r\"D:/Lighthouse/NFT_Images/Tops/Top002.png\", r\"D:/Lighthouse/NFT_Images/Tops/Top003.png\", r\"D:/Lighthouse/NFT_Images/Tops/Top004.png\", r\"D:/Lighthouse/NFT_Images/Tops/Top005.png\", r\"D:/Lighthouse/NFT_Images/Tops/Top006.png\", r\"D:/Lighthouse/NFT_Images/Tops/Top007.png\"]\n",
    "\n",
    "orbList = [r\"D:/Lighthouse/NFT_Images/Orbs/Orb001.png\", r\"D:/Lighthouse/NFT_Images/Orbs/Orb002.png\", r\"D:/Lighthouse/NFT_Images/Orbs/Orb003.png\", r\"D:/Lighthouse/NFT_Images/Orbs/Orb004.png\", r\"D:/Lighthouse/NFT_Images/Orbs/Orb005.png\"]\n",
    "\n",
    "wingList = [r\"D:/Lighthouse/NFT_Images/Wings/Wings001.png\", r\"D:/Lighthouse/NFT_Images/Wings/Wings002.png\", r\"D:/Lighthouse/NFT_Images/Wings/Wings003.png\"]\n",
    "\n",
    "necklaceList = [r\"D:/Lighthouse/NFT_Images/Necklaces/Necklace001.png\", r\"D:/Lighthouse/NFT_Images/Necklaces/Necklace002.png\", r\"D:/Lighthouse/NFT_Images/Necklaces/Necklace003.png\", r\"D:/Lighthouse/NFT_Images/Necklaces/Necklace004.png\", r\"D:/Lighthouse/NFT_Images/Necklaces/Necklace005.png\", r\"D:/Lighthouse/NFT_Images/Necklaces/Necklace006.png\", r\"D:/Lighthouse/NFT_Images/Necklaces/Necklace007.png\"]\n",
    "\n",
    "haloList = [r\"D:/Lighthouse/NFT_Images/Halos/Halo001.png\", r\"D:/Lighthouse/NFT_Images/Halos/Halo002.png\", r\"D:/Lighthouse/NFT_Images/Halos/Halo003.png\", r\"D:/Lighthouse/NFT_Images/Halos/Halo004.png\"]\n",
    "\n",
    "braceletList = [r\"D:/Lighthouse/NFT_Images/Bracelets/Bracelet001.png\",r\"D:/Lighthouse/NFT_Images/Bracelets/Bracelet002.png\", r\"D:/Lighthouse/NFT_Images/Bracelets/Bracelet003.png\", r\"D:/Lighthouse/NFT_Images/Bracelets/Bracelet004.png\"]\n",
    "\n",
    "bottomList = [r\"D:/Lighthouse/NFT_Images/Bottoms/Bottom001.png\", r\"D:/Lighthouse/NFT_Images/Bottoms/Bottom002.png\",r\"D:/Lighthouse/NFT_Images/Bottoms/Bottom003.png\", r\"D:/Lighthouse/NFT_Images/Bottoms/Bottom004.png\", r\"D:/Lighthouse/NFT_Images/Bottoms/Bottom005.png\", r\"D:/Lighthouse/NFT_Images/Bottoms/Bottom006.png\", r\"D:/Lighthouse/NFT_Images/Bottoms/Bottom007.png\"]\n",
    "\n",
    "\n",
    "count = 0\n",
    "\n",
    "mainlist = []"
   ]
  },
  {
   "cell_type": "code",
   "execution_count": 15,
   "id": "fdcb484e",
   "metadata": {},
   "outputs": [],
   "source": [
    "for i in range(0, len(bgList)):\n",
    "    templist = []\n",
    "    i_list = templist.copy()\n",
    "    i_list.append(i)\n",
    "    for j in range(0, len(headGearList)):\n",
    "        j_list = i_list.copy()\n",
    "        j_list.append(j)\n",
    "        for k in range(0, len(topList)):\n",
    "            k_list = j_list.copy()\n",
    "            k_list.append(k)\n",
    "            for l in range(0, len(orbList)):\n",
    "                l_list = k_list.copy()\n",
    "                l_list.append(l)\n",
    "                for m in range(0, len(wingList)):\n",
    "                    m_list = l_list.copy()\n",
    "                    m_list.append(m)\n",
    "                    for n in range(0, len(necklaceList)):\n",
    "                        n_list = m_list.copy()\n",
    "                        n_list.append(n)\n",
    "                        for o in range(0, len(haloList)):\n",
    "                            o_list = n_list.copy()\n",
    "                            o_list.append(o)\n",
    "                            for p in range(0, len(braceletList)):\n",
    "                                p_list = o_list.copy()\n",
    "                                p_list.append(p)\n",
    "                                for q in range(0, len(bottomList)):\n",
    "                                    q_list = p_list.copy()\n",
    "                                    q_list.append(q)\n",
    "                                    mainlist.append(q_list) "
   ]
  },
  {
   "cell_type": "code",
   "execution_count": 16,
   "id": "992956cf",
   "metadata": {},
   "outputs": [
    {
     "name": "stdout",
     "output_type": "stream",
     "text": [
      "2469600\n"
     ]
    }
   ],
   "source": [
    "random.shuffle(mainlist)\n",
    "print(len(mainlist))\n",
    "\n",
    "mainlist = mainlist[:100]"
   ]
  },
  {
   "cell_type": "code",
   "execution_count": 17,
   "id": "f4f81446",
   "metadata": {},
   "outputs": [
    {
     "name": "stdout",
     "output_type": "stream",
     "text": [
      "[[0, 1, 0, 0, 0, 5, 3, 1, 3], [4, 1, 1, 2, 1, 2, 3, 3, 0], [5, 0, 2, 1, 2, 1, 2, 1, 5], [12, 0, 4, 3, 0, 5, 2, 3, 3], [12, 0, 1, 0, 2, 0, 0, 1, 6], [4, 0, 2, 1, 2, 4, 0, 2, 4], [0, 0, 3, 4, 1, 1, 3, 0, 6], [0, 0, 1, 4, 1, 2, 0, 0, 0], [11, 0, 1, 1, 0, 1, 0, 0, 0], [10, 1, 3, 3, 0, 5, 0, 1, 6]]\n"
     ]
    }
   ],
   "source": [
    "print(mainlist[0:10])"
   ]
  },
  {
   "cell_type": "code",
   "execution_count": 18,
   "id": "ff1c4ff7",
   "metadata": {},
   "outputs": [
    {
     "ename": "KeyboardInterrupt",
     "evalue": "",
     "output_type": "error",
     "traceback": [
      "\u001b[1;31m---------------------------------------------------------------------------\u001b[0m",
      "\u001b[1;31mKeyboardInterrupt\u001b[0m                         Traceback (most recent call last)",
      "\u001b[1;32m~\\AppData\\Local\\Temp/ipykernel_7184/533303933.py\u001b[0m in \u001b[0;36m<module>\u001b[1;34m\u001b[0m\n\u001b[0;32m     44\u001b[0m     \u001b[0mimg2\u001b[0m\u001b[1;33m.\u001b[0m\u001b[0mpaste\u001b[0m\u001b[1;33m(\u001b[0m\u001b[0mimg3\u001b[0m\u001b[1;33m,\u001b[0m \u001b[1;33m(\u001b[0m\u001b[1;36m0\u001b[0m\u001b[1;33m,\u001b[0m\u001b[1;36m0\u001b[0m\u001b[1;33m)\u001b[0m\u001b[1;33m,\u001b[0m \u001b[0mmask\u001b[0m \u001b[1;33m=\u001b[0m \u001b[0mimg3\u001b[0m\u001b[1;33m)\u001b[0m\u001b[1;33m\u001b[0m\u001b[1;33m\u001b[0m\u001b[0m\n\u001b[0;32m     45\u001b[0m \u001b[1;33m\u001b[0m\u001b[0m\n\u001b[1;32m---> 46\u001b[1;33m     \u001b[0mimg8\u001b[0m\u001b[1;33m.\u001b[0m\u001b[0mpaste\u001b[0m\u001b[1;33m(\u001b[0m\u001b[0mimg10\u001b[0m\u001b[1;33m,\u001b[0m \u001b[1;33m(\u001b[0m\u001b[1;36m0\u001b[0m\u001b[1;33m,\u001b[0m\u001b[1;36m0\u001b[0m\u001b[1;33m)\u001b[0m\u001b[1;33m,\u001b[0m \u001b[0mmask\u001b[0m \u001b[1;33m=\u001b[0m \u001b[0mimg10\u001b[0m\u001b[1;33m)\u001b[0m\u001b[1;33m\u001b[0m\u001b[1;33m\u001b[0m\u001b[0m\n\u001b[0m\u001b[0;32m     47\u001b[0m \u001b[1;33m\u001b[0m\u001b[0m\n\u001b[0;32m     48\u001b[0m     \u001b[0mimg8\u001b[0m\u001b[1;33m.\u001b[0m\u001b[0mpaste\u001b[0m\u001b[1;33m(\u001b[0m\u001b[0mimg1\u001b[0m\u001b[1;33m,\u001b[0m \u001b[1;33m(\u001b[0m\u001b[1;36m0\u001b[0m\u001b[1;33m,\u001b[0m\u001b[1;36m0\u001b[0m\u001b[1;33m)\u001b[0m\u001b[1;33m,\u001b[0m\u001b[0mmask\u001b[0m \u001b[1;33m=\u001b[0m \u001b[0mimg1\u001b[0m\u001b[1;33m)\u001b[0m\u001b[1;33m\u001b[0m\u001b[1;33m\u001b[0m\u001b[0m\n",
      "\u001b[1;32mD:\\Conda\\lib\\site-packages\\PIL\\Image.py\u001b[0m in \u001b[0;36mpaste\u001b[1;34m(self, im, box, mask)\u001b[0m\n\u001b[0;32m   1573\u001b[0m \u001b[1;33m\u001b[0m\u001b[0m\n\u001b[0;32m   1574\u001b[0m         \u001b[1;32melif\u001b[0m \u001b[0misImageType\u001b[0m\u001b[1;33m(\u001b[0m\u001b[0mim\u001b[0m\u001b[1;33m)\u001b[0m\u001b[1;33m:\u001b[0m\u001b[1;33m\u001b[0m\u001b[1;33m\u001b[0m\u001b[0m\n\u001b[1;32m-> 1575\u001b[1;33m             \u001b[0mim\u001b[0m\u001b[1;33m.\u001b[0m\u001b[0mload\u001b[0m\u001b[1;33m(\u001b[0m\u001b[1;33m)\u001b[0m\u001b[1;33m\u001b[0m\u001b[1;33m\u001b[0m\u001b[0m\n\u001b[0m\u001b[0;32m   1576\u001b[0m             \u001b[1;32mif\u001b[0m \u001b[0mself\u001b[0m\u001b[1;33m.\u001b[0m\u001b[0mmode\u001b[0m \u001b[1;33m!=\u001b[0m \u001b[0mim\u001b[0m\u001b[1;33m.\u001b[0m\u001b[0mmode\u001b[0m\u001b[1;33m:\u001b[0m\u001b[1;33m\u001b[0m\u001b[1;33m\u001b[0m\u001b[0m\n\u001b[0;32m   1577\u001b[0m                 \u001b[1;32mif\u001b[0m \u001b[0mself\u001b[0m\u001b[1;33m.\u001b[0m\u001b[0mmode\u001b[0m \u001b[1;33m!=\u001b[0m \u001b[1;34m\"RGB\"\u001b[0m \u001b[1;32mor\u001b[0m \u001b[0mim\u001b[0m\u001b[1;33m.\u001b[0m\u001b[0mmode\u001b[0m \u001b[1;32mnot\u001b[0m \u001b[1;32min\u001b[0m \u001b[1;33m(\u001b[0m\u001b[1;34m\"RGBA\"\u001b[0m\u001b[1;33m,\u001b[0m \u001b[1;34m\"RGBa\"\u001b[0m\u001b[1;33m)\u001b[0m\u001b[1;33m:\u001b[0m\u001b[1;33m\u001b[0m\u001b[1;33m\u001b[0m\u001b[0m\n",
      "\u001b[1;32mD:\\Conda\\lib\\site-packages\\PIL\\ImageFile.py\u001b[0m in \u001b[0;36mload\u001b[1;34m(self)\u001b[0m\n\u001b[0;32m    253\u001b[0m \u001b[1;33m\u001b[0m\u001b[0m\n\u001b[0;32m    254\u001b[0m                             \u001b[0mb\u001b[0m \u001b[1;33m=\u001b[0m \u001b[0mb\u001b[0m \u001b[1;33m+\u001b[0m \u001b[0ms\u001b[0m\u001b[1;33m\u001b[0m\u001b[1;33m\u001b[0m\u001b[0m\n\u001b[1;32m--> 255\u001b[1;33m                             \u001b[0mn\u001b[0m\u001b[1;33m,\u001b[0m \u001b[0merr_code\u001b[0m \u001b[1;33m=\u001b[0m \u001b[0mdecoder\u001b[0m\u001b[1;33m.\u001b[0m\u001b[0mdecode\u001b[0m\u001b[1;33m(\u001b[0m\u001b[0mb\u001b[0m\u001b[1;33m)\u001b[0m\u001b[1;33m\u001b[0m\u001b[1;33m\u001b[0m\u001b[0m\n\u001b[0m\u001b[0;32m    256\u001b[0m                             \u001b[1;32mif\u001b[0m \u001b[0mn\u001b[0m \u001b[1;33m<\u001b[0m \u001b[1;36m0\u001b[0m\u001b[1;33m:\u001b[0m\u001b[1;33m\u001b[0m\u001b[1;33m\u001b[0m\u001b[0m\n\u001b[0;32m    257\u001b[0m                                 \u001b[1;32mbreak\u001b[0m\u001b[1;33m\u001b[0m\u001b[1;33m\u001b[0m\u001b[0m\n",
      "\u001b[1;31mKeyboardInterrupt\u001b[0m: "
     ]
    }
   ],
   "source": [
    "for i in range(1200):\n",
    "    templist = mainlist[i]\n",
    "    \n",
    "    img0 = Image.open(bgList[templist[0]])\n",
    "\n",
    "    img1 = Image.open(r\"D:/Lighthouse/NFT_Images/Bird/Bird.png\")\n",
    "\n",
    "    img2 = Image.open(r\"D:/Lighthouse/NFT_Images/Char/Girl_Podhum.png\")\n",
    "\n",
    "    img3 = Image.open(headGearList[templist[1]])\n",
    "\n",
    "    img4 = Image.open(topList[templist[2]])\n",
    "\n",
    "    img5 = Image.open(orbList[templist[3]])\n",
    "\n",
    "    img6 = Image.open(wingList[templist[4]])\n",
    "\n",
    "    img7 = Image.open(r\"D:/Lighthouse/NFT_Images/Text/Text.png\")\n",
    "\n",
    "    img8 = Image.open(necklaceList[templist[5]])\n",
    "\n",
    "    img9 = Image.open(r\"D:/Lighthouse/NFT_Images/Map/Map.png\")\n",
    "\n",
    "    img10 = Image.open(haloList[templist[6]])\n",
    "\n",
    "    img11 = Image.open(braceletList[templist[7]])\n",
    "\n",
    "    img12 = Image.open(bottomList[templist[8]])\n",
    "\n",
    "    img13 = Image.open(r\"D:/Lighthouse/NFT_Images/Bands/Band.png\")\n",
    "    \n",
    "    img14 = Image.open(r\"D:/Lighthouse/NFT_Images/Glasses/Glasses.png\")\n",
    "    \n",
    "    img15 = Image.open(r\"D:/Lighthouse/NFT_Images/Watermark/Watermark.png\")\n",
    "\n",
    "    img8.paste(img5, (0,0), mask = img5)\n",
    "\n",
    "    img2.paste(img4, (0,0), mask = img4)\n",
    "\n",
    "    img2.paste(img13, (0,0), mask = img13)\n",
    "\n",
    "    img2.paste(img11, (0,0), mask = img11)\n",
    "\n",
    "    img2.paste(img3, (0,0), mask = img3)\n",
    "\n",
    "    img8.paste(img10, (0,0), mask = img10)\n",
    "\n",
    "    img8.paste(img1, (0,0),mask = img1)\n",
    "\n",
    "    img2.paste(img8, (0,0), mask = img8)\n",
    "    \n",
    "    if(random.randint(0,3)>1):\n",
    "        img2.paste(img14, (0,0), mask = img14)\n",
    "\n",
    "    img1.paste(img12, (0,0), mask = img12)\n",
    "\n",
    "    img1.paste(img2, (0,0), mask = img2)\n",
    "\n",
    "    img0.paste(img9, (0,0), mask = img9)\n",
    "    \n",
    "    img0.paste(img2, (0,0), mask = img2)\n",
    "    \n",
    "    img0.paste(img15, (0,0), mask = img15)\n",
    "\n",
    "    if(random.randint(0,3)>1):\n",
    "        img0.paste(img6, (0,0), mask = img6)\n",
    "\n",
    "#     img0.paste(img7, (0,0), mask = img7)\n",
    "\n",
    "    img0.paste(img1, (0,0),mask = img1)\n",
    "\n",
    "    count += 1\n",
    "\n",
    "    img0.save(r\"D:/Lighthouse/NFT_Images/temp/\" + str(count) + \".png\")"
   ]
  },
  {
   "cell_type": "code",
   "execution_count": null,
   "id": "572c1687",
   "metadata": {},
   "outputs": [],
   "source": []
  }
 ],
 "metadata": {
  "kernelspec": {
   "display_name": "Python 3 (ipykernel)",
   "language": "python",
   "name": "python3"
  },
  "language_info": {
   "codemirror_mode": {
    "name": "ipython",
    "version": 3
   },
   "file_extension": ".py",
   "mimetype": "text/x-python",
   "name": "python",
   "nbconvert_exporter": "python",
   "pygments_lexer": "ipython3",
   "version": "3.9.7"
  }
 },
 "nbformat": 4,
 "nbformat_minor": 5
}
